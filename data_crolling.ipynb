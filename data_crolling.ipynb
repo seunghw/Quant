{
 "metadata": {
  "language_info": {
   "codemirror_mode": {
    "name": "ipython",
    "version": 3
   },
   "file_extension": ".py",
   "mimetype": "text/x-python",
   "name": "python",
   "nbconvert_exporter": "python",
   "pygments_lexer": "ipython3",
   "version": "3.8.3-final"
  },
  "orig_nbformat": 2,
  "kernelspec": {
   "name": "python3",
   "display_name": "Python 3",
   "language": "python"
  }
 },
 "nbformat": 4,
 "nbformat_minor": 2,
 "cells": [
  {
   "source": [
    "## 현재가격 불러오기"
   ],
   "cell_type": "markdown",
   "metadata": {}
  },
  {
   "cell_type": "code",
   "execution_count": 5,
   "metadata": {},
   "outputs": [],
   "source": [
    "from bs4 import BeautifulSoup as bs\n",
    "from urllib.request import urlopen"
   ]
  },
  {
   "cell_type": "code",
   "execution_count": 6,
   "metadata": {},
   "outputs": [],
   "source": [
    "url = \"https://finance.naver.com/item/main.nhn?code=005930\""
   ]
  },
  {
   "cell_type": "code",
   "execution_count": 8,
   "metadata": {},
   "outputs": [],
   "source": [
    "soup = bs(urlopen(url), 'html.parser')\n"
   ]
  },
  {
   "cell_type": "code",
   "execution_count": 10,
   "metadata": {},
   "outputs": [
    {
     "output_type": "execute_result",
     "data": {
      "text/plain": [
       "<div class=\"today\">\n",
       "<p class=\"no_today\">\n",
       "<em class=\"no_up\">\n",
       "<span class=\"blind\">83,900</span>\n",
       "<span class=\"no8\">8</span><span class=\"no3\">3</span><span class=\"shim\">,</span><span class=\"no9\">9</span><span class=\"no0\">0</span><span class=\"no0\">0</span>\n",
       "</em>\n",
       "</p>\n",
       "<p class=\"no_exday\">\n",
       "<span class=\"sptxt sp_txt1\">전일대비</span>\n",
       "<em class=\"no_up\">\n",
       "<span class=\"ico up\">상승</span>\n",
       "<span class=\"blind\">900</span>\n",
       "<span class=\"no9\">9</span><span class=\"no0\">0</span><span class=\"no0\">0</span>\n",
       "</em>\n",
       "<span class=\"bar\">l</span>\n",
       "<em class=\"no_up\">\n",
       "<span class=\"ico plus\">+</span>\n",
       "<span class=\"blind\">1.08</span>\n",
       "<span class=\"no1\">1</span><span class=\"jum\">.</span><span class=\"no0\">0</span><span class=\"no8\">8</span>\n",
       "<span class=\"per\">%</span>\n",
       "</em>\n",
       "</p>\n",
       "</div>"
      ]
     },
     "metadata": {},
     "execution_count": 10
    }
   ],
   "source": [
    "today = soup.find('div', class_='today')\n",
    "today"
   ]
  },
  {
   "cell_type": "code",
   "execution_count": 12,
   "metadata": {},
   "outputs": [],
   "source": [
    "today = today.find('span', class_='blind')\n"
   ]
  },
  {
   "cell_type": "code",
   "execution_count": 13,
   "metadata": {},
   "outputs": [
    {
     "output_type": "execute_result",
     "data": {
      "text/plain": [
       "'83,900'"
      ]
     },
     "metadata": {},
     "execution_count": 13
    }
   ],
   "source": [
    "today.get_text()"
   ]
  },
  {
   "cell_type": "code",
   "execution_count": 14,
   "metadata": {},
   "outputs": [
    {
     "output_type": "execute_result",
     "data": {
      "text/plain": [
       "'83,900원'"
      ]
     },
     "metadata": {},
     "execution_count": 14
    }
   ],
   "source": [
    "today.get_text()+'원'"
   ]
  },
  {
   "cell_type": "code",
   "execution_count": 15,
   "metadata": {},
   "outputs": [
    {
     "output_type": "execute_result",
     "data": {
      "text/plain": [
       "83900"
      ]
     },
     "metadata": {},
     "execution_count": 15
    }
   ],
   "source": [
    "int(today.get_text().replace(',', ''))"
   ]
  },
  {
   "source": [
    "## 시가총액 불러오기"
   ],
   "cell_type": "markdown",
   "metadata": {}
  },
  {
   "cell_type": "code",
   "execution_count": 24,
   "metadata": {},
   "outputs": [
    {
     "output_type": "execute_result",
     "data": {
      "text/plain": [
       "<table summary=\"시가총액 정보\">\n",
       "<caption>시가총액</caption>\n",
       "<tr class=\"strong\">\n",
       "<th scope=\"row\">시가총액</th>\n",
       "<td><em id=\"_market_sum\">\n",
       "\t\t\t\t\t\t\t\t\n",
       "\t\t\t\t\t\t\t\t\n",
       "\t\t\t\t\t\t\t\t\t\n",
       "\t\t\t\t\t\t\t\t\t\n",
       "\t\t\t\t\t\t\t\t\t\t\n",
       "\t\t\t\t\t\t\t\t\t\t\n",
       "\t\t\t\t\t\t\t\t\t\t500조\n",
       "\t\t\t\t\t\t\t\t\t\t\n",
       "\t\t\t\t\t\t\t\t\t\t\t8,648\n",
       "\t\t\t\t\t\t\t\t\t\t\n",
       "\t\t\t\t\t\t\t\t\t\n",
       "\t\t\t\t\t\t\t\t</em>억원</td>\n",
       "</tr>\n",
       "<tr><th scope=\"row\">\n",
       "<a class=\"link_site\" href=\"/sise/sise_market_sum.nhn\" onclick=\"clickcr(this, 'sop.19', '', '1', event)\">시가총액순위</a>\n",
       "</th><td>코스피 <em>1</em>위</td></tr>\n",
       "<tr>\n",
       "<th scope=\"row\">상장주식수</th>\n",
       "<td><em>5,969,782,550</em></td>\n",
       "</tr>\n",
       "<tr><th scope=\"row\">액면가<span class=\"bar\">l</span>매매단위</th>\n",
       "<td>\n",
       "<em>100</em>원\n",
       "\t\t\t\t\t\t\t\t\t<span class=\"bar\">l</span>\n",
       "<em>1</em>주\n",
       "\t\t\t\t\t\t\t\t</td>\n",
       "</tr>\n",
       "</table>"
      ]
     },
     "metadata": {},
     "execution_count": 24
    }
   ],
   "source": [
    "mktcap = soup.find('table', summary='시가총액 정보')\r\n",
    "mktcap"
   ]
  },
  {
   "cell_type": "code",
   "execution_count": 29,
   "metadata": {},
   "outputs": [
    {
     "output_type": "error",
     "ename": "AttributeError",
     "evalue": "'NoneType' object has no attribute 'get_text'",
     "traceback": [
      "\u001b[1;31m---------------------------------------------------------------------------\u001b[0m",
      "\u001b[1;31mAttributeError\u001b[0m                            Traceback (most recent call last)",
      "\u001b[1;32m<ipython-input-29-7778a935cf28>\u001b[0m in \u001b[0;36m<module>\u001b[1;34m\u001b[0m\n\u001b[0;32m      1\u001b[0m \u001b[0mmktcap\u001b[0m \u001b[1;33m=\u001b[0m \u001b[0mmktcap\u001b[0m\u001b[1;33m.\u001b[0m\u001b[0mfind\u001b[0m\u001b[1;33m(\u001b[0m\u001b[1;34m'em'\u001b[0m\u001b[1;33m,\u001b[0m \u001b[0mid\u001b[0m\u001b[1;33m=\u001b[0m\u001b[1;34m'_market_sum'\u001b[0m\u001b[1;33m)\u001b[0m\u001b[1;33m\u001b[0m\u001b[1;33m\u001b[0m\u001b[0m\n\u001b[1;32m----> 2\u001b[1;33m \u001b[0mmktcap\u001b[0m \u001b[1;33m=\u001b[0m \u001b[0mmktcap\u001b[0m\u001b[1;33m.\u001b[0m\u001b[0mget_text\u001b[0m\u001b[1;33m(\u001b[0m\u001b[1;33m)\u001b[0m\u001b[1;33m\u001b[0m\u001b[1;33m\u001b[0m\u001b[0m\n\u001b[0m",
      "\u001b[1;31mAttributeError\u001b[0m: 'NoneType' object has no attribute 'get_text'"
     ]
    }
   ],
   "source": [
    "mktcap = mktcap.find('em', id='_market_sum')\n",
    "mktcap = mktcap.get_text()"
   ]
  },
  {
   "cell_type": "code",
   "execution_count": 28,
   "metadata": {},
   "outputs": [
    {
     "output_type": "execute_result",
     "data": {
      "text/plain": [
       "<em id=\"_market_sum\">\n",
       "\t\t\t\t\t\t\t\t\n",
       "\t\t\t\t\t\t\t\t\n",
       "\t\t\t\t\t\t\t\t\t\n",
       "\t\t\t\t\t\t\t\t\t\n",
       "\t\t\t\t\t\t\t\t\t\t\n",
       "\t\t\t\t\t\t\t\t\t\t\n",
       "\t\t\t\t\t\t\t\t\t\t500조\n",
       "\t\t\t\t\t\t\t\t\t\t\n",
       "\t\t\t\t\t\t\t\t\t\t\t8,648\n",
       "\t\t\t\t\t\t\t\t\t\t\n",
       "\t\t\t\t\t\t\t\t\t\n",
       "\t\t\t\t\t\t\t\t</em>"
      ]
     },
     "metadata": {},
     "execution_count": 28
    }
   ],
   "source": [
    "mktcap"
   ]
  },
  {
   "cell_type": "code",
   "execution_count": null,
   "metadata": {},
   "outputs": [],
   "source": []
  }
 ]
}